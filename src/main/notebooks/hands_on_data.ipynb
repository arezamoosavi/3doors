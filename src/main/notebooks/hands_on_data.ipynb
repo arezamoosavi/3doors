{
 "cells": [
  {
   "cell_type": "code",
   "execution_count": 2,
   "metadata": {},
   "outputs": [],
   "source": [
    "import numpy as np\n",
    "import pandas as pd"
   ]
  },
  {
   "cell_type": "code",
   "execution_count": 3,
   "metadata": {},
   "outputs": [
    {
     "name": "stdout",
     "output_type": "stream",
     "text": [
      "There are 11589 rows and 12 columns\n"
     ]
    }
   ],
   "source": [
    "df1 = pd.read_csv('Bank_Data.csv', delimiter=',')\n",
    "nRow, nCol = df1.shape\n",
    "print(f'There are {nRow} rows and {nCol} columns')"
   ]
  },
  {
   "cell_type": "code",
   "execution_count": 16,
   "metadata": {},
   "outputs": [
    {
     "data": {
      "text/html": [
       "<div>\n",
       "<style scoped>\n",
       "    .dataframe tbody tr th:only-of-type {\n",
       "        vertical-align: middle;\n",
       "    }\n",
       "\n",
       "    .dataframe tbody tr th {\n",
       "        vertical-align: top;\n",
       "    }\n",
       "\n",
       "    .dataframe thead th {\n",
       "        text-align: right;\n",
       "    }\n",
       "</style>\n",
       "<table border=\"1\" class=\"dataframe\">\n",
       "  <thead>\n",
       "    <tr style=\"text-align: right;\">\n",
       "      <th></th>\n",
       "      <th>ATM_Name</th>\n",
       "      <th>Transaction_Date</th>\n",
       "      <th>No_Of_Withdrawals</th>\n",
       "      <th>No_Of_XYZ_Card_Withdrawals</th>\n",
       "      <th>No_Of_Other_Card_Withdrawals</th>\n",
       "      <th>Total_amount_Withdrawn</th>\n",
       "      <th>Amount_withdrawn_XYZ_Card</th>\n",
       "      <th>Amount_withdrawn_Other_Card</th>\n",
       "      <th>Weekday</th>\n",
       "      <th>Festival_Religion</th>\n",
       "      <th>Working_Day</th>\n",
       "      <th>Holiday_Sequence</th>\n",
       "    </tr>\n",
       "  </thead>\n",
       "  <tbody>\n",
       "    <tr>\n",
       "      <th>0</th>\n",
       "      <td>Big Street ATM</td>\n",
       "      <td>1/1/2011</td>\n",
       "      <td>50</td>\n",
       "      <td>20</td>\n",
       "      <td>30</td>\n",
       "      <td>123800</td>\n",
       "      <td>41700</td>\n",
       "      <td>82100</td>\n",
       "      <td>Saturday</td>\n",
       "      <td>H</td>\n",
       "      <td>H</td>\n",
       "      <td>WHH</td>\n",
       "    </tr>\n",
       "    <tr>\n",
       "      <th>1</th>\n",
       "      <td>Mount Road ATM</td>\n",
       "      <td>1/1/2011</td>\n",
       "      <td>253</td>\n",
       "      <td>67</td>\n",
       "      <td>186</td>\n",
       "      <td>767900</td>\n",
       "      <td>270900</td>\n",
       "      <td>497000</td>\n",
       "      <td>Saturday</td>\n",
       "      <td>C</td>\n",
       "      <td>H</td>\n",
       "      <td>WHH</td>\n",
       "    </tr>\n",
       "    <tr>\n",
       "      <th>2</th>\n",
       "      <td>Airport ATM</td>\n",
       "      <td>1/1/2011</td>\n",
       "      <td>98</td>\n",
       "      <td>56</td>\n",
       "      <td>42</td>\n",
       "      <td>503400</td>\n",
       "      <td>347700</td>\n",
       "      <td>155700</td>\n",
       "      <td>Saturday</td>\n",
       "      <td>C</td>\n",
       "      <td>H</td>\n",
       "      <td>WHH</td>\n",
       "    </tr>\n",
       "    <tr>\n",
       "      <th>3</th>\n",
       "      <td>KK Nagar ATM</td>\n",
       "      <td>1/1/2011</td>\n",
       "      <td>265</td>\n",
       "      <td>159</td>\n",
       "      <td>106</td>\n",
       "      <td>945300</td>\n",
       "      <td>532600</td>\n",
       "      <td>412700</td>\n",
       "      <td>Saturday</td>\n",
       "      <td>C</td>\n",
       "      <td>H</td>\n",
       "      <td>WHH</td>\n",
       "    </tr>\n",
       "    <tr>\n",
       "      <th>4</th>\n",
       "      <td>Christ College ATM</td>\n",
       "      <td>1/1/2011</td>\n",
       "      <td>74</td>\n",
       "      <td>25</td>\n",
       "      <td>49</td>\n",
       "      <td>287700</td>\n",
       "      <td>148200</td>\n",
       "      <td>139500</td>\n",
       "      <td>Saturday</td>\n",
       "      <td>C</td>\n",
       "      <td>H</td>\n",
       "      <td>WHH</td>\n",
       "    </tr>\n",
       "  </tbody>\n",
       "</table>\n",
       "</div>"
      ],
      "text/plain": [
       "             ATM_Name Transaction_Date  No_Of_Withdrawals  \\\n",
       "0      Big Street ATM         1/1/2011                 50   \n",
       "1      Mount Road ATM         1/1/2011                253   \n",
       "2         Airport ATM         1/1/2011                 98   \n",
       "3        KK Nagar ATM         1/1/2011                265   \n",
       "4  Christ College ATM         1/1/2011                 74   \n",
       "\n",
       "   No_Of_XYZ_Card_Withdrawals  No_Of_Other_Card_Withdrawals  \\\n",
       "0                          20                            30   \n",
       "1                          67                           186   \n",
       "2                          56                            42   \n",
       "3                         159                           106   \n",
       "4                          25                            49   \n",
       "\n",
       "   Total_amount_Withdrawn  Amount_withdrawn_XYZ_Card  \\\n",
       "0                  123800                      41700   \n",
       "1                  767900                     270900   \n",
       "2                  503400                     347700   \n",
       "3                  945300                     532600   \n",
       "4                  287700                     148200   \n",
       "\n",
       "   Amount_withdrawn_Other_Card   Weekday Festival_Religion Working_Day  \\\n",
       "0                        82100  Saturday                 H           H   \n",
       "1                       497000  Saturday                 C           H   \n",
       "2                       155700  Saturday                 C           H   \n",
       "3                       412700  Saturday                 C           H   \n",
       "4                       139500  Saturday                 C           H   \n",
       "\n",
       "  Holiday_Sequence  \n",
       "0              WHH  \n",
       "1              WHH  \n",
       "2              WHH  \n",
       "3              WHH  \n",
       "4              WHH  "
      ]
     },
     "execution_count": 16,
     "metadata": {},
     "output_type": "execute_result"
    }
   ],
   "source": [
    "df1.head()"
   ]
  },
  {
   "cell_type": "code",
   "execution_count": 11,
   "metadata": {},
   "outputs": [],
   "source": [
    "ll = ['ATM Name', 'Transaction Date', 'No Of Withdrawals',\n",
    "       'No Of XYZ Card Withdrawals', 'No Of Other Card Withdrawals',\n",
    "       'Total amount Withdrawn', 'Amount withdrawn XYZ Card',\n",
    "       'Amount withdrawn Other Card', 'Weekday', 'Festival Religion',\n",
    "       'Working Day', 'Holiday Sequence']"
   ]
  },
  {
   "cell_type": "code",
   "execution_count": 14,
   "metadata": {},
   "outputs": [
    {
     "data": {
      "text/plain": [
       "['ATM_Name',\n",
       " 'Transaction_Date',\n",
       " 'No_Of_Withdrawals',\n",
       " 'No_Of_XYZ_Card_Withdrawals',\n",
       " 'No_Of_Other_Card_Withdrawals',\n",
       " 'Total_amount_Withdrawn',\n",
       " 'Amount_withdrawn_XYZ_Card',\n",
       " 'Amount_withdrawn_Other_Card',\n",
       " 'Weekday',\n",
       " 'Festival_Religion',\n",
       " 'Working_Day',\n",
       " 'Holiday_Sequence']"
      ]
     },
     "execution_count": 14,
     "metadata": {},
     "output_type": "execute_result"
    }
   ],
   "source": [
    "nl = []\n",
    "for item in ll:\n",
    "    nl.append(item.replace(\" \", \"_\"))\n",
    "nl"
   ]
  },
  {
   "cell_type": "code",
   "execution_count": 15,
   "metadata": {},
   "outputs": [],
   "source": [
    "df1.columns = nl"
   ]
  },
  {
   "cell_type": "code",
   "execution_count": 5,
   "metadata": {},
   "outputs": [
    {
     "name": "stdout",
     "output_type": "stream",
     "text": [
      "There are 30156 rows and 12 columns\n"
     ]
    }
   ],
   "source": [
    "df2 = pd.read_csv('atm_transactions.csv', delimiter=',')\n",
    "nRow, nCol = df2.shape\n",
    "print(f'There are {nRow} rows and {nCol} columns')"
   ]
  },
  {
   "cell_type": "code",
   "execution_count": 17,
   "metadata": {},
   "outputs": [
    {
     "data": {
      "text/html": [
       "<div>\n",
       "<style scoped>\n",
       "    .dataframe tbody tr th:only-of-type {\n",
       "        vertical-align: middle;\n",
       "    }\n",
       "\n",
       "    .dataframe tbody tr th {\n",
       "        vertical-align: top;\n",
       "    }\n",
       "\n",
       "    .dataframe thead th {\n",
       "        text-align: right;\n",
       "    }\n",
       "</style>\n",
       "<table border=\"1\" class=\"dataframe\">\n",
       "  <thead>\n",
       "    <tr style=\"text-align: right;\">\n",
       "      <th></th>\n",
       "      <th>atmId</th>\n",
       "      <th>atmName</th>\n",
       "      <th>atmCity</th>\n",
       "      <th>atmAddress</th>\n",
       "      <th>totalBalance</th>\n",
       "      <th>numberIncomeTransaction</th>\n",
       "      <th>numberOutcomeTransaction</th>\n",
       "      <th>totalIncome</th>\n",
       "      <th>totalOutcome</th>\n",
       "      <th>totalNumberTransaction</th>\n",
       "      <th>day</th>\n",
       "      <th>transactionTime</th>\n",
       "    </tr>\n",
       "  </thead>\n",
       "  <tbody>\n",
       "    <tr>\n",
       "      <th>30151</th>\n",
       "      <td>atm35000354</td>\n",
       "      <td>TORBALI ŞUBE-2</td>\n",
       "      <td>Izmir</td>\n",
       "      <td>Tepeköy Mahallesi Ağalar Caddesi No: 10 / A</td>\n",
       "      <td>16665</td>\n",
       "      <td>58</td>\n",
       "      <td>73</td>\n",
       "      <td>4485</td>\n",
       "      <td>4330</td>\n",
       "      <td>131</td>\n",
       "      <td>Tuesday</td>\n",
       "      <td>2020-01-07 23:00:00</td>\n",
       "    </tr>\n",
       "    <tr>\n",
       "      <th>30152</th>\n",
       "      <td>atm35000355</td>\n",
       "      <td>URLA İSKELE</td>\n",
       "      <td>Izmir</td>\n",
       "      <td>URLA İSKELE</td>\n",
       "      <td>7925</td>\n",
       "      <td>41</td>\n",
       "      <td>99</td>\n",
       "      <td>2705</td>\n",
       "      <td>5810</td>\n",
       "      <td>140</td>\n",
       "      <td>Tuesday</td>\n",
       "      <td>2020-01-07 23:00:00</td>\n",
       "    </tr>\n",
       "    <tr>\n",
       "      <th>30153</th>\n",
       "      <td>atm35000356</td>\n",
       "      <td>URLA MEYDAN AVM ÖNÜ</td>\n",
       "      <td>Izmir</td>\n",
       "      <td>HACİ İSA MAHALLESİ BARATALI BULVARI NO:40/71 A...</td>\n",
       "      <td>25920</td>\n",
       "      <td>92</td>\n",
       "      <td>94</td>\n",
       "      <td>6135</td>\n",
       "      <td>6140</td>\n",
       "      <td>186</td>\n",
       "      <td>Tuesday</td>\n",
       "      <td>2020-01-07 23:00:00</td>\n",
       "    </tr>\n",
       "    <tr>\n",
       "      <th>30154</th>\n",
       "      <td>atm35000357</td>\n",
       "      <td>URLA ŞUBE-1</td>\n",
       "      <td>Izmir</td>\n",
       "      <td>Hacı İsa Mahallesi Bülent Baratalı Bulvarı No: 74</td>\n",
       "      <td>30295</td>\n",
       "      <td>68</td>\n",
       "      <td>91</td>\n",
       "      <td>4765</td>\n",
       "      <td>6535</td>\n",
       "      <td>159</td>\n",
       "      <td>Tuesday</td>\n",
       "      <td>2020-01-07 23:00:00</td>\n",
       "    </tr>\n",
       "    <tr>\n",
       "      <th>30155</th>\n",
       "      <td>atm35000358</td>\n",
       "      <td>URLA ŞUBE-2</td>\n",
       "      <td>Izmir</td>\n",
       "      <td>Hacı İsa Mahallesi Bülent Baratalı Bulvarı No: 74</td>\n",
       "      <td>11040</td>\n",
       "      <td>80</td>\n",
       "      <td>78</td>\n",
       "      <td>4675</td>\n",
       "      <td>5475</td>\n",
       "      <td>158</td>\n",
       "      <td>Tuesday</td>\n",
       "      <td>2020-01-07 23:00:00</td>\n",
       "    </tr>\n",
       "  </tbody>\n",
       "</table>\n",
       "</div>"
      ],
      "text/plain": [
       "             atmId              atmName atmCity  \\\n",
       "30151  atm35000354       TORBALI ŞUBE-2   Izmir   \n",
       "30152  atm35000355          URLA İSKELE   Izmir   \n",
       "30153  atm35000356  URLA MEYDAN AVM ÖNÜ   Izmir   \n",
       "30154  atm35000357          URLA ŞUBE-1   Izmir   \n",
       "30155  atm35000358          URLA ŞUBE-2   Izmir   \n",
       "\n",
       "                                              atmAddress  totalBalance  \\\n",
       "30151        Tepeköy Mahallesi Ağalar Caddesi No: 10 / A         16665   \n",
       "30152                                        URLA İSKELE          7925   \n",
       "30153  HACİ İSA MAHALLESİ BARATALI BULVARI NO:40/71 A...         25920   \n",
       "30154  Hacı İsa Mahallesi Bülent Baratalı Bulvarı No: 74         30295   \n",
       "30155  Hacı İsa Mahallesi Bülent Baratalı Bulvarı No: 74         11040   \n",
       "\n",
       "       numberIncomeTransaction  numberOutcomeTransaction  totalIncome  \\\n",
       "30151                       58                        73         4485   \n",
       "30152                       41                        99         2705   \n",
       "30153                       92                        94         6135   \n",
       "30154                       68                        91         4765   \n",
       "30155                       80                        78         4675   \n",
       "\n",
       "       totalOutcome  totalNumberTransaction      day      transactionTime  \n",
       "30151          4330                     131  Tuesday  2020-01-07 23:00:00  \n",
       "30152          5810                     140  Tuesday  2020-01-07 23:00:00  \n",
       "30153          6140                     186  Tuesday  2020-01-07 23:00:00  \n",
       "30154          6535                     159  Tuesday  2020-01-07 23:00:00  \n",
       "30155          5475                     158  Tuesday  2020-01-07 23:00:00  "
      ]
     },
     "execution_count": 17,
     "metadata": {},
     "output_type": "execute_result"
    }
   ],
   "source": [
    "df2.tail()"
   ]
  },
  {
   "cell_type": "code",
   "execution_count": 19,
   "metadata": {},
   "outputs": [],
   "source": [
    "dickv = df2.to_dict('index')"
   ]
  },
  {
   "cell_type": "code",
   "execution_count": 32,
   "metadata": {},
   "outputs": [],
   "source": [
    "lisv = df1.to_dict('records')"
   ]
  },
  {
   "cell_type": "code",
   "execution_count": 35,
   "metadata": {},
   "outputs": [],
   "source": [
    "df1.to_csv(\"atm_data.csv\", index=False)"
   ]
  },
  {
   "cell_type": "code",
   "execution_count": 33,
   "metadata": {},
   "outputs": [
    {
     "data": {
      "text/plain": [
       "[{'ATM_Name': 'Big Street ATM',\n",
       "  'Transaction_Date': '1/1/2011',\n",
       "  'No_Of_Withdrawals': 50,\n",
       "  'No_Of_XYZ_Card_Withdrawals': 20,\n",
       "  'No_Of_Other_Card_Withdrawals': 30,\n",
       "  'Total_amount_Withdrawn': 123800,\n",
       "  'Amount_withdrawn_XYZ_Card': 41700,\n",
       "  'Amount_withdrawn_Other_Card': 82100,\n",
       "  'Weekday': 'Saturday',\n",
       "  'Festival_Religion': 'H',\n",
       "  'Working_Day': 'H',\n",
       "  'Holiday_Sequence': 'WHH'},\n",
       " {'ATM_Name': 'Mount Road ATM',\n",
       "  'Transaction_Date': '1/1/2011',\n",
       "  'No_Of_Withdrawals': 253,\n",
       "  'No_Of_XYZ_Card_Withdrawals': 67,\n",
       "  'No_Of_Other_Card_Withdrawals': 186,\n",
       "  'Total_amount_Withdrawn': 767900,\n",
       "  'Amount_withdrawn_XYZ_Card': 270900,\n",
       "  'Amount_withdrawn_Other_Card': 497000,\n",
       "  'Weekday': 'Saturday',\n",
       "  'Festival_Religion': 'C',\n",
       "  'Working_Day': 'H',\n",
       "  'Holiday_Sequence': 'WHH'}]"
      ]
     },
     "execution_count": 33,
     "metadata": {},
     "output_type": "execute_result"
    }
   ],
   "source": [
    "lisv[0:2]"
   ]
  },
  {
   "cell_type": "code",
   "execution_count": 37,
   "metadata": {},
   "outputs": [],
   "source": [
    "import requests\n",
    "from kafka import KafkaProducer\n",
    "from json import dumps\n",
    "import csv"
   ]
  },
  {
   "cell_type": "code",
   "execution_count": 36,
   "metadata": {},
   "outputs": [
    {
     "name": "stdout",
     "output_type": "stream",
     "text": [
      "{'ATM_Name': 'Big Street ATM', 'Transaction_Date': '1/1/2011', 'No_Of_Withdrawals': '50', 'No_Of_XYZ_Card_Withdrawals': '20', 'No_Of_Other_Card_Withdrawals': '30', 'Total_amount_Withdrawn': '123800', 'Amount_withdrawn_XYZ_Card': '41700', 'Amount_withdrawn_Other_Card': '82100', 'Weekday': 'Saturday', 'Festival_Religion': 'H', 'Working_Day': 'H', 'Holiday_Sequence': 'WHH'}\n",
      "{'ATM_Name': 'Mount Road ATM', 'Transaction_Date': '1/1/2011', 'No_Of_Withdrawals': '253', 'No_Of_XYZ_Card_Withdrawals': '67', 'No_Of_Other_Card_Withdrawals': '186', 'Total_amount_Withdrawn': '767900', 'Amount_withdrawn_XYZ_Card': '270900', 'Amount_withdrawn_Other_Card': '497000', 'Weekday': 'Saturday', 'Festival_Religion': 'C', 'Working_Day': 'H', 'Holiday_Sequence': 'WHH'}\n",
      "{'ATM_Name': 'Airport ATM', 'Transaction_Date': '1/1/2011', 'No_Of_Withdrawals': '98', 'No_Of_XYZ_Card_Withdrawals': '56', 'No_Of_Other_Card_Withdrawals': '42', 'Total_amount_Withdrawn': '503400', 'Amount_withdrawn_XYZ_Card': '347700', 'Amount_withdrawn_Other_Card': '155700', 'Weekday': 'Saturday', 'Festival_Religion': 'C', 'Working_Day': 'H', 'Holiday_Sequence': 'WHH'}\n",
      "{'ATM_Name': 'KK Nagar ATM', 'Transaction_Date': '1/1/2011', 'No_Of_Withdrawals': '265', 'No_Of_XYZ_Card_Withdrawals': '159', 'No_Of_Other_Card_Withdrawals': '106', 'Total_amount_Withdrawn': '945300', 'Amount_withdrawn_XYZ_Card': '532600', 'Amount_withdrawn_Other_Card': '412700', 'Weekday': 'Saturday', 'Festival_Religion': 'C', 'Working_Day': 'H', 'Holiday_Sequence': 'WHH'}\n",
      "{'ATM_Name': 'Christ College ATM', 'Transaction_Date': '1/1/2011', 'No_Of_Withdrawals': '74', 'No_Of_XYZ_Card_Withdrawals': '25', 'No_Of_Other_Card_Withdrawals': '49', 'Total_amount_Withdrawn': '287700', 'Amount_withdrawn_XYZ_Card': '148200', 'Amount_withdrawn_Other_Card': '139500', 'Weekday': 'Saturday', 'Festival_Religion': 'C', 'Working_Day': 'H', 'Holiday_Sequence': 'WHH'}\n",
      "{'ATM_Name': 'Big Street ATM', 'Transaction_Date': '2/1/2011', 'No_Of_Withdrawals': '17', 'No_Of_XYZ_Card_Withdrawals': '5', 'No_Of_Other_Card_Withdrawals': '12', 'Total_amount_Withdrawn': '52800', 'Amount_withdrawn_XYZ_Card': '20900', 'Amount_withdrawn_Other_Card': '31900', 'Weekday': 'Sunday', 'Festival_Religion': 'NH', 'Working_Day': 'H', 'Holiday_Sequence': 'HHW'}\n",
      "{'ATM_Name': 'Mount Road ATM', 'Transaction_Date': '2/1/2011', 'No_Of_Withdrawals': '194', 'No_Of_XYZ_Card_Withdrawals': '50', 'No_Of_Other_Card_Withdrawals': '144', 'Total_amount_Withdrawn': '529300', 'Amount_withdrawn_XYZ_Card': '171700', 'Amount_withdrawn_Other_Card': '357600', 'Weekday': 'Sunday', 'Festival_Religion': 'NH', 'Working_Day': 'H', 'Holiday_Sequence': 'HHW'}\n",
      "{'ATM_Name': 'Airport ATM', 'Transaction_Date': '2/1/2011', 'No_Of_Withdrawals': '67', 'No_Of_XYZ_Card_Withdrawals': '53', 'No_Of_Other_Card_Withdrawals': '14', 'Total_amount_Withdrawn': '268600', 'Amount_withdrawn_XYZ_Card': '213300', 'Amount_withdrawn_Other_Card': '55300', 'Weekday': 'Sunday', 'Festival_Religion': 'NH', 'Working_Day': 'H', 'Holiday_Sequence': 'HHW'}\n",
      "{'ATM_Name': 'KK Nagar ATM', 'Transaction_Date': '2/1/2011', 'No_Of_Withdrawals': '260', 'No_Of_XYZ_Card_Withdrawals': '155', 'No_Of_Other_Card_Withdrawals': '105', 'Total_amount_Withdrawn': '809400', 'Amount_withdrawn_XYZ_Card': '456200', 'Amount_withdrawn_Other_Card': '353200', 'Weekday': 'Sunday', 'Festival_Religion': 'NH', 'Working_Day': 'H', 'Holiday_Sequence': 'HHW'}\n",
      "{'ATM_Name': 'Christ College ATM', 'Transaction_Date': '2/1/2011', 'No_Of_Withdrawals': '80', 'No_Of_XYZ_Card_Withdrawals': '24', 'No_Of_Other_Card_Withdrawals': '56', 'Total_amount_Withdrawn': '300000', 'Amount_withdrawn_XYZ_Card': '95600', 'Amount_withdrawn_Other_Card': '204400', 'Weekday': 'Sunday', 'Festival_Religion': 'NH', 'Working_Day': 'H', 'Holiday_Sequence': 'HHW'}\n"
     ]
    }
   ],
   "source": [
    "u = 10\n",
    "with open(\"atm_data.csv\") as file:\n",
    "    reader = csv.DictReader(file)\n",
    "    for row in reader:\n",
    "        u -=1\n",
    "        data = dict(row)\n",
    "        print(data)\n",
    "        if u ==0:\n",
    "            break"
   ]
  }
 ],
 "metadata": {
  "kernelspec": {
   "display_name": "Python 3",
   "language": "python",
   "name": "python3"
  },
  "language_info": {
   "codemirror_mode": {
    "name": "ipython",
    "version": 3
   },
   "file_extension": ".py",
   "mimetype": "text/x-python",
   "name": "python",
   "nbconvert_exporter": "python",
   "pygments_lexer": "ipython3",
   "version": "3.7.9"
  }
 },
 "nbformat": 4,
 "nbformat_minor": 4
}
